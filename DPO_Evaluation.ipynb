{
 "cells": [
  {
   "cell_type": "code",
   "execution_count": null,
   "id": "04741bf2-b30c-45ac-bd6d-eff5c99712f9",
   "metadata": {},
   "outputs": [],
   "source": [
    "from rouge_score import rouge_scorer\n",
    "import bert_score\n",
    "\n",
    "def evaluate_summaries(reference_summaries, generated_summaries):\n",
    "    # ROUGE evaluation\n",
    "    scorer = rouge_scorer.RougeScorer(['rouge1', 'rouge2', 'rougeL'], use_stemmer=True)\n",
    "    rouge_scores = [scorer.score(ref, gen) for ref, gen in zip(reference_summaries, generated_summaries)]\n",
    "\n",
    "    # BERTScore evaluation\n",
    "    P, R, F1 = bert_score.score(generated_summaries, reference_summaries, lang=\"en\", rescale_with_baseline=True)\n",
    "\n",
    "    return rouge_scores, P, R, F1\n",
    "\n",
    "# TODO: ADD CODE TO OPEN THE PROPER REFERENCE SUMMARIES ONCE WE GENERATED THEM\n",
    "# FOR NOW WE REGEN THEM EVERY TIME\n",
    "reference_summary = []\n",
    "for i, sample in enumerate(val_data): \n",
    "    current_preferred_summary = sample['summaries'][0]['text']\n",
    "    if sample['choice'] == 1:\n",
    "        current_preferred_summary = sample['summaries'][1]['text']\n",
    "    reference_summary.append(current_preferred_summary)\n",
    "\n",
    "# TODO: generate the fine tuned and original generated summaries and open the file here.\n",
    "fine_tuned_summaries = []\n",
    "original_summaries = []\n",
    "\n",
    "\n",
    "# Evaluate fine-tuned model summaries\n",
    "fine_tuned_rouge_scores, fine_tuned_P, fine_tuned_R, fine_tuned_F1 = evaluate_summaries(reference_summaries, fine_tuned_summaries)\n",
    "\n",
    "# Evaluate original model summaries\n",
    "original_rouge_scores, original_P, original_R, original_F1 = evaluate_summaries(reference_summaries, original_summaries)\n",
    "\n"
   ]
  }
 ],
 "metadata": {
  "kernelspec": {
   "display_name": "Python [conda env:pytorch]",
   "language": "python",
   "name": "conda-env-pytorch-py"
  },
  "language_info": {
   "codemirror_mode": {
    "name": "ipython",
    "version": 3
   },
   "file_extension": ".py",
   "mimetype": "text/x-python",
   "name": "python",
   "nbconvert_exporter": "python",
   "pygments_lexer": "ipython3",
   "version": "3.9.19"
  }
 },
 "nbformat": 4,
 "nbformat_minor": 5
}
